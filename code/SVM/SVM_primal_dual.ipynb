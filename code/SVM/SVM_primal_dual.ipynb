{
 "cells": [
  {
   "cell_type": "code",
   "execution_count": 25,
   "metadata": {},
   "outputs": [],
   "source": [
    "import numpy as np\n",
    "import pandas as pd\n",
    "from cvxopt import matrix as matrix\n",
    "from cvxopt import solvers as solvers\n",
    "import matplotlib.pyplot as plt"
   ]
  },
  {
   "cell_type": "markdown",
   "metadata": {},
   "source": [
    "## Data loading and manipulation"
   ]
  },
  {
   "cell_type": "code",
   "execution_count": 2,
   "metadata": {},
   "outputs": [
    {
     "data": {
      "text/html": [
       "<div>\n",
       "<style scoped>\n",
       "    .dataframe tbody tr th:only-of-type {\n",
       "        vertical-align: middle;\n",
       "    }\n",
       "\n",
       "    .dataframe tbody tr th {\n",
       "        vertical-align: top;\n",
       "    }\n",
       "\n",
       "    .dataframe thead th {\n",
       "        text-align: right;\n",
       "    }\n",
       "</style>\n",
       "<table border=\"1\" class=\"dataframe\">\n",
       "  <thead>\n",
       "    <tr style=\"text-align: right;\">\n",
       "      <th></th>\n",
       "      <th>0</th>\n",
       "      <th>1</th>\n",
       "      <th>2</th>\n",
       "      <th>3</th>\n",
       "      <th>4</th>\n",
       "      <th>5</th>\n",
       "      <th>6</th>\n",
       "      <th>7</th>\n",
       "      <th>8</th>\n",
       "      <th>9</th>\n",
       "      <th>...</th>\n",
       "      <th>191</th>\n",
       "      <th>192</th>\n",
       "      <th>193</th>\n",
       "      <th>194</th>\n",
       "      <th>195</th>\n",
       "      <th>196</th>\n",
       "      <th>197</th>\n",
       "      <th>198</th>\n",
       "      <th>199</th>\n",
       "      <th>200</th>\n",
       "    </tr>\n",
       "  </thead>\n",
       "  <tbody>\n",
       "    <tr>\n",
       "      <th>0</th>\n",
       "      <td>0.0</td>\n",
       "      <td>-0.36</td>\n",
       "      <td>-0.91</td>\n",
       "      <td>-0.99</td>\n",
       "      <td>-0.57</td>\n",
       "      <td>-1.38</td>\n",
       "      <td>-1.54</td>\n",
       "      <td>-1.64</td>\n",
       "      <td>1.29</td>\n",
       "      <td>0.65</td>\n",
       "      <td>...</td>\n",
       "      <td>1.15</td>\n",
       "      <td>-0.05</td>\n",
       "      <td>-0.09</td>\n",
       "      <td>0.02</td>\n",
       "      <td>1.75</td>\n",
       "      <td>1.58</td>\n",
       "      <td>0.12</td>\n",
       "      <td>0.30</td>\n",
       "      <td>2.44</td>\n",
       "      <td>-1.26</td>\n",
       "    </tr>\n",
       "    <tr>\n",
       "      <th>1</th>\n",
       "      <td>1.0</td>\n",
       "      <td>-1.40</td>\n",
       "      <td>-1.90</td>\n",
       "      <td>0.09</td>\n",
       "      <td>0.29</td>\n",
       "      <td>-0.30</td>\n",
       "      <td>-1.30</td>\n",
       "      <td>1.13</td>\n",
       "      <td>-2.38</td>\n",
       "      <td>-1.16</td>\n",
       "      <td>...</td>\n",
       "      <td>0.48</td>\n",
       "      <td>0.24</td>\n",
       "      <td>-0.16</td>\n",
       "      <td>-0.48</td>\n",
       "      <td>-0.02</td>\n",
       "      <td>-0.35</td>\n",
       "      <td>-0.27</td>\n",
       "      <td>-0.20</td>\n",
       "      <td>-0.92</td>\n",
       "      <td>-0.46</td>\n",
       "    </tr>\n",
       "    <tr>\n",
       "      <th>2</th>\n",
       "      <td>1.0</td>\n",
       "      <td>-0.43</td>\n",
       "      <td>1.45</td>\n",
       "      <td>-0.68</td>\n",
       "      <td>-1.58</td>\n",
       "      <td>0.32</td>\n",
       "      <td>-0.14</td>\n",
       "      <td>0.23</td>\n",
       "      <td>-1.01</td>\n",
       "      <td>-0.39</td>\n",
       "      <td>...</td>\n",
       "      <td>-0.94</td>\n",
       "      <td>0.11</td>\n",
       "      <td>-1.30</td>\n",
       "      <td>-0.24</td>\n",
       "      <td>0.74</td>\n",
       "      <td>0.88</td>\n",
       "      <td>1.37</td>\n",
       "      <td>0.12</td>\n",
       "      <td>0.01</td>\n",
       "      <td>-0.56</td>\n",
       "    </tr>\n",
       "    <tr>\n",
       "      <th>3</th>\n",
       "      <td>1.0</td>\n",
       "      <td>-0.76</td>\n",
       "      <td>0.30</td>\n",
       "      <td>-0.57</td>\n",
       "      <td>-0.33</td>\n",
       "      <td>-1.50</td>\n",
       "      <td>1.84</td>\n",
       "      <td>1.37</td>\n",
       "      <td>0.23</td>\n",
       "      <td>0.66</td>\n",
       "      <td>...</td>\n",
       "      <td>-0.42</td>\n",
       "      <td>0.06</td>\n",
       "      <td>-1.05</td>\n",
       "      <td>0.35</td>\n",
       "      <td>-0.24</td>\n",
       "      <td>-0.69</td>\n",
       "      <td>1.31</td>\n",
       "      <td>-0.18</td>\n",
       "      <td>-1.54</td>\n",
       "      <td>-1.70</td>\n",
       "    </tr>\n",
       "    <tr>\n",
       "      <th>4</th>\n",
       "      <td>0.0</td>\n",
       "      <td>-0.76</td>\n",
       "      <td>1.36</td>\n",
       "      <td>0.00</td>\n",
       "      <td>-1.44</td>\n",
       "      <td>-1.27</td>\n",
       "      <td>-0.76</td>\n",
       "      <td>-1.42</td>\n",
       "      <td>-0.58</td>\n",
       "      <td>0.11</td>\n",
       "      <td>...</td>\n",
       "      <td>-0.44</td>\n",
       "      <td>1.45</td>\n",
       "      <td>-1.18</td>\n",
       "      <td>-1.13</td>\n",
       "      <td>-0.14</td>\n",
       "      <td>0.04</td>\n",
       "      <td>0.33</td>\n",
       "      <td>1.20</td>\n",
       "      <td>-0.81</td>\n",
       "      <td>-1.16</td>\n",
       "    </tr>\n",
       "  </tbody>\n",
       "</table>\n",
       "<p>5 rows × 201 columns</p>\n",
       "</div>"
      ],
      "text/plain": [
       "   0     1     2     3     4     5     6     7     8     9    ...   191   192  \\\n",
       "0  0.0 -0.36 -0.91 -0.99 -0.57 -1.38 -1.54 -1.64  1.29  0.65  ...  1.15 -0.05   \n",
       "1  1.0 -1.40 -1.90  0.09  0.29 -0.30 -1.30  1.13 -2.38 -1.16  ...  0.48  0.24   \n",
       "2  1.0 -0.43  1.45 -0.68 -1.58  0.32 -0.14  0.23 -1.01 -0.39  ... -0.94  0.11   \n",
       "3  1.0 -0.76  0.30 -0.57 -0.33 -1.50  1.84  1.37  0.23  0.66  ... -0.42  0.06   \n",
       "4  0.0 -0.76  1.36  0.00 -1.44 -1.27 -0.76 -1.42 -0.58  0.11  ... -0.44  1.45   \n",
       "\n",
       "    193   194   195   196   197   198   199   200  \n",
       "0 -0.09  0.02  1.75  1.58  0.12  0.30  2.44 -1.26  \n",
       "1 -0.16 -0.48 -0.02 -0.35 -0.27 -0.20 -0.92 -0.46  \n",
       "2 -1.30 -0.24  0.74  0.88  1.37  0.12  0.01 -0.56  \n",
       "3 -1.05  0.35 -0.24 -0.69  1.31 -0.18 -1.54 -1.70  \n",
       "4 -1.18 -1.13 -0.14  0.04  0.33  1.20 -0.81 -1.16  \n",
       "\n",
       "[5 rows x 201 columns]"
      ]
     },
     "execution_count": 2,
     "metadata": {},
     "output_type": "execute_result"
    }
   ],
   "source": [
    "df_train = pd.read_csv('train.csv', header=None)\n",
    "df_train.head()"
   ]
  },
  {
   "cell_type": "code",
   "execution_count": 3,
   "metadata": {},
   "outputs": [
    {
     "name": "stdout",
     "output_type": "stream",
     "text": [
      "<class 'pandas.core.frame.DataFrame'>\n",
      "RangeIndex: 8500 entries, 0 to 8499\n",
      "Columns: 201 entries, target to 200\n",
      "dtypes: float64(201)\n",
      "memory usage: 13.0 MB\n"
     ]
    }
   ],
   "source": [
    "#change name for 'label' column and examine dataframe\n",
    "df_train=df_train.rename(columns={0: \"target\"})\n",
    "df_train.info()"
   ]
  },
  {
   "cell_type": "markdown",
   "metadata": {},
   "source": [
    "There are 201 columns including 'target', 8500 instances in train set with no missing entries"
   ]
  },
  {
   "cell_type": "code",
   "execution_count": 4,
   "metadata": {},
   "outputs": [],
   "source": [
    "#change '0.0' labels in target column to '-1.0'\n",
    "df_train['target'] = df_train['target'].replace(0,-1.0)"
   ]
  },
  {
   "cell_type": "code",
   "execution_count": 5,
   "metadata": {},
   "outputs": [
    {
     "data": {
      "text/plain": [
       "(8500, 200)"
      ]
     },
     "execution_count": 5,
     "metadata": {},
     "output_type": "execute_result"
    }
   ],
   "source": [
    "#create X_train array\n",
    "X_train = df_train.iloc[:,1:].values\n",
    "X_train.shape"
   ]
  },
  {
   "cell_type": "code",
   "execution_count": 6,
   "metadata": {},
   "outputs": [
    {
     "data": {
      "text/plain": [
       "(8500, 1)"
      ]
     },
     "execution_count": 6,
     "metadata": {},
     "output_type": "execute_result"
    }
   ],
   "source": [
    "#create y_train array\n",
    "y_train = df_train['target'].values.reshape(-1,1)\n",
    "y_train.shape"
   ]
  },
  {
   "cell_type": "code",
   "execution_count": 7,
   "metadata": {},
   "outputs": [
    {
     "data": {
      "text/html": [
       "<div>\n",
       "<style scoped>\n",
       "    .dataframe tbody tr th:only-of-type {\n",
       "        vertical-align: middle;\n",
       "    }\n",
       "\n",
       "    .dataframe tbody tr th {\n",
       "        vertical-align: top;\n",
       "    }\n",
       "\n",
       "    .dataframe thead th {\n",
       "        text-align: right;\n",
       "    }\n",
       "</style>\n",
       "<table border=\"1\" class=\"dataframe\">\n",
       "  <thead>\n",
       "    <tr style=\"text-align: right;\">\n",
       "      <th></th>\n",
       "      <th>0</th>\n",
       "      <th>1</th>\n",
       "      <th>2</th>\n",
       "      <th>3</th>\n",
       "      <th>4</th>\n",
       "      <th>5</th>\n",
       "      <th>6</th>\n",
       "      <th>7</th>\n",
       "      <th>8</th>\n",
       "      <th>9</th>\n",
       "      <th>...</th>\n",
       "      <th>191</th>\n",
       "      <th>192</th>\n",
       "      <th>193</th>\n",
       "      <th>194</th>\n",
       "      <th>195</th>\n",
       "      <th>196</th>\n",
       "      <th>197</th>\n",
       "      <th>198</th>\n",
       "      <th>199</th>\n",
       "      <th>200</th>\n",
       "    </tr>\n",
       "  </thead>\n",
       "  <tbody>\n",
       "    <tr>\n",
       "      <th>0</th>\n",
       "      <td>1.0</td>\n",
       "      <td>-0.97</td>\n",
       "      <td>-0.69</td>\n",
       "      <td>-0.96</td>\n",
       "      <td>1.05</td>\n",
       "      <td>0.02</td>\n",
       "      <td>0.64</td>\n",
       "      <td>-0.91</td>\n",
       "      <td>-1.33</td>\n",
       "      <td>-1.21</td>\n",
       "      <td>...</td>\n",
       "      <td>-1.27</td>\n",
       "      <td>0.89</td>\n",
       "      <td>1.32</td>\n",
       "      <td>2.98</td>\n",
       "      <td>1.68</td>\n",
       "      <td>0.29</td>\n",
       "      <td>-1.88</td>\n",
       "      <td>-0.60</td>\n",
       "      <td>-0.68</td>\n",
       "      <td>0.20</td>\n",
       "    </tr>\n",
       "    <tr>\n",
       "      <th>1</th>\n",
       "      <td>0.0</td>\n",
       "      <td>-0.82</td>\n",
       "      <td>-0.17</td>\n",
       "      <td>-0.36</td>\n",
       "      <td>-1.99</td>\n",
       "      <td>-1.54</td>\n",
       "      <td>-0.31</td>\n",
       "      <td>-1.75</td>\n",
       "      <td>0.14</td>\n",
       "      <td>-0.54</td>\n",
       "      <td>...</td>\n",
       "      <td>1.14</td>\n",
       "      <td>2.49</td>\n",
       "      <td>1.94</td>\n",
       "      <td>-0.94</td>\n",
       "      <td>-0.70</td>\n",
       "      <td>1.10</td>\n",
       "      <td>-1.44</td>\n",
       "      <td>0.46</td>\n",
       "      <td>0.98</td>\n",
       "      <td>2.90</td>\n",
       "    </tr>\n",
       "    <tr>\n",
       "      <th>2</th>\n",
       "      <td>0.0</td>\n",
       "      <td>-1.68</td>\n",
       "      <td>0.13</td>\n",
       "      <td>-0.42</td>\n",
       "      <td>1.41</td>\n",
       "      <td>0.89</td>\n",
       "      <td>-0.42</td>\n",
       "      <td>1.33</td>\n",
       "      <td>-0.08</td>\n",
       "      <td>-0.14</td>\n",
       "      <td>...</td>\n",
       "      <td>-0.99</td>\n",
       "      <td>-0.45</td>\n",
       "      <td>0.21</td>\n",
       "      <td>0.37</td>\n",
       "      <td>1.16</td>\n",
       "      <td>-0.56</td>\n",
       "      <td>-0.57</td>\n",
       "      <td>-1.42</td>\n",
       "      <td>-0.38</td>\n",
       "      <td>0.33</td>\n",
       "    </tr>\n",
       "    <tr>\n",
       "      <th>3</th>\n",
       "      <td>0.0</td>\n",
       "      <td>-1.28</td>\n",
       "      <td>1.21</td>\n",
       "      <td>0.65</td>\n",
       "      <td>1.90</td>\n",
       "      <td>-1.21</td>\n",
       "      <td>-0.38</td>\n",
       "      <td>-0.79</td>\n",
       "      <td>2.18</td>\n",
       "      <td>-0.99</td>\n",
       "      <td>...</td>\n",
       "      <td>-0.83</td>\n",
       "      <td>0.26</td>\n",
       "      <td>-0.22</td>\n",
       "      <td>-0.57</td>\n",
       "      <td>-0.34</td>\n",
       "      <td>-1.35</td>\n",
       "      <td>-0.79</td>\n",
       "      <td>-0.62</td>\n",
       "      <td>-0.54</td>\n",
       "      <td>0.51</td>\n",
       "    </tr>\n",
       "    <tr>\n",
       "      <th>4</th>\n",
       "      <td>1.0</td>\n",
       "      <td>-1.18</td>\n",
       "      <td>0.41</td>\n",
       "      <td>1.05</td>\n",
       "      <td>0.16</td>\n",
       "      <td>-0.72</td>\n",
       "      <td>0.91</td>\n",
       "      <td>0.33</td>\n",
       "      <td>-0.23</td>\n",
       "      <td>0.77</td>\n",
       "      <td>...</td>\n",
       "      <td>-0.84</td>\n",
       "      <td>-0.70</td>\n",
       "      <td>-0.88</td>\n",
       "      <td>-1.53</td>\n",
       "      <td>0.81</td>\n",
       "      <td>1.14</td>\n",
       "      <td>1.21</td>\n",
       "      <td>-0.15</td>\n",
       "      <td>0.26</td>\n",
       "      <td>1.09</td>\n",
       "    </tr>\n",
       "  </tbody>\n",
       "</table>\n",
       "<p>5 rows × 201 columns</p>\n",
       "</div>"
      ],
      "text/plain": [
       "   0     1     2     3     4     5     6     7     8     9    ...   191   192  \\\n",
       "0  1.0 -0.97 -0.69 -0.96  1.05  0.02  0.64 -0.91 -1.33 -1.21  ... -1.27  0.89   \n",
       "1  0.0 -0.82 -0.17 -0.36 -1.99 -1.54 -0.31 -1.75  0.14 -0.54  ...  1.14  2.49   \n",
       "2  0.0 -1.68  0.13 -0.42  1.41  0.89 -0.42  1.33 -0.08 -0.14  ... -0.99 -0.45   \n",
       "3  0.0 -1.28  1.21  0.65  1.90 -1.21 -0.38 -0.79  2.18 -0.99  ... -0.83  0.26   \n",
       "4  1.0 -1.18  0.41  1.05  0.16 -0.72  0.91  0.33 -0.23  0.77  ... -0.84 -0.70   \n",
       "\n",
       "    193   194   195   196   197   198   199   200  \n",
       "0  1.32  2.98  1.68  0.29 -1.88 -0.60 -0.68  0.20  \n",
       "1  1.94 -0.94 -0.70  1.10 -1.44  0.46  0.98  2.90  \n",
       "2  0.21  0.37  1.16 -0.56 -0.57 -1.42 -0.38  0.33  \n",
       "3 -0.22 -0.57 -0.34 -1.35 -0.79 -0.62 -0.54  0.51  \n",
       "4 -0.88 -1.53  0.81  1.14  1.21 -0.15  0.26  1.09  \n",
       "\n",
       "[5 rows x 201 columns]"
      ]
     },
     "execution_count": 7,
     "metadata": {},
     "output_type": "execute_result"
    }
   ],
   "source": [
    "df_test = pd.read_csv('test.csv', header=None)\n",
    "df_test.head()"
   ]
  },
  {
   "cell_type": "code",
   "execution_count": 8,
   "metadata": {},
   "outputs": [
    {
     "name": "stdout",
     "output_type": "stream",
     "text": [
      "<class 'pandas.core.frame.DataFrame'>\n",
      "RangeIndex: 1500 entries, 0 to 1499\n",
      "Columns: 201 entries, target to 200\n",
      "dtypes: float64(201)\n",
      "memory usage: 2.3 MB\n"
     ]
    }
   ],
   "source": [
    "#change name for 'label' column and examine dataframe\n",
    "df_test=df_test.rename(columns={0: \"target\"})\n",
    "df_test.info()"
   ]
  },
  {
   "cell_type": "markdown",
   "metadata": {},
   "source": [
    "There are 201 columns including 'target', 8500 instances in test set with no missing entries"
   ]
  },
  {
   "cell_type": "code",
   "execution_count": 9,
   "metadata": {},
   "outputs": [],
   "source": [
    "#change '0.0' labels in target column to '-1.0'\n",
    "df_test['target'] = df_test['target'].replace(0,-1.0)\n"
   ]
  },
  {
   "cell_type": "code",
   "execution_count": 10,
   "metadata": {},
   "outputs": [
    {
     "data": {
      "text/plain": [
       "(1500, 200)"
      ]
     },
     "execution_count": 10,
     "metadata": {},
     "output_type": "execute_result"
    }
   ],
   "source": [
    "#create X_test array \n",
    "X_test = df_test.iloc[:,1:].values\n",
    "X_test.shape"
   ]
  },
  {
   "cell_type": "code",
   "execution_count": 11,
   "metadata": {},
   "outputs": [
    {
     "data": {
      "text/plain": [
       "(1500, 1)"
      ]
     },
     "execution_count": 11,
     "metadata": {},
     "output_type": "execute_result"
    }
   ],
   "source": [
    "#create y_test array\n",
    "y_test = df_test['target'].values.reshape(-1,1)\n",
    "y_test.shape"
   ]
  },
  {
   "cell_type": "markdown",
   "metadata": {},
   "source": [
    "## Implementation of sklearn SVM \n",
    "In this section we will implement sklearn SVM with linear kernel for classification. The regularisation parameter 'C' will be optimized using k-fold cross validation on train set. The model with optimum C will then be fit on entire train set. We will examine the support vectors, weights and bias parameters of model implemented by sklearn (to compare parameters of primal and dual forms implemented using cvxopt). The model will also be evaluated on test set and the accuracy score will be compared with that obtained with cvxopt implementation of primal and dual forms of linear SVM."
   ]
  },
  {
   "cell_type": "code",
   "execution_count": 12,
   "metadata": {},
   "outputs": [
    {
     "data": {
      "text/plain": [
       "GridSearchCV(cv=5, estimator=SVC(kernel='linear'),\n",
       "             param_grid=[{'C': [0.0001, 0.001, 0.01, 1, 10]}],\n",
       "             scoring='accuracy')"
      ]
     },
     "execution_count": 12,
     "metadata": {},
     "output_type": "execute_result"
    }
   ],
   "source": [
    "# from sklearn.svm import SVC\n",
    "from sklearn.svm import SVC\n",
    "from sklearn.model_selection import GridSearchCV\n",
    "from sklearn.metrics import accuracy_score\n",
    "\n",
    "svc = SVC(kernel='linear')\n",
    "\n",
    "params = [{'C': [1e-4,1e-3,1e-2,1,10]}]\n",
    "clf = GridSearchCV(svc, params,cv=5, scoring = 'accuracy')\n",
    "clf.fit(X_train,y_train.ravel())\n",
    "\n"
   ]
  },
  {
   "cell_type": "code",
   "execution_count": 13,
   "metadata": {},
   "outputs": [
    {
     "name": "stdout",
     "output_type": "stream",
     "text": [
      "Optimal \"C\" based on 5-fold cross validation on train set:{'C': 0.001}\n",
      "Mean accuracy score with 5-fold cross validation on train set: 97.3%\n"
     ]
    }
   ],
   "source": [
    "print('Optimal \"C\" based on 5-fold cross validation on train set:{}'.format(clf.best_params_) )\n",
    "print('Mean accuracy score with 5-fold cross validation on train set: {:.1f}%'.format(clf.best_score_*100))"
   ]
  },
  {
   "cell_type": "code",
   "execution_count": 14,
   "metadata": {},
   "outputs": [
    {
     "name": "stdout",
     "output_type": "stream",
     "text": [
      "Train accuracy obtained with sklearn implementation: 97.6%\n",
      "\n",
      "Test accuracy obtained with sklearn implementation: 97.4%\n"
     ]
    }
   ],
   "source": [
    "#fit model with optimal C on entire train set and evaluate on test set\n",
    "model = SVC(kernel='linear', C=0.001)\n",
    "model.fit(X_train,y_train.ravel())\n",
    "train_pred_sklearn = model.predict(X_train)\n",
    "train_accuracy_sklearn = accuracy_score(train_pred_sklearn,y_train)\n",
    "test_pred_sklearn = model.predict(X_test)\n",
    "test_accuracy_sklearn = accuracy_score(test_pred_sklearn,y_test)\n",
    "print('Train accuracy obtained with sklearn implementation: {:.1f}%'.format(train_accuracy_sklearn*100))\n",
    "print()\n",
    "print('Test accuracy obtained with sklearn implementation: {:.1f}%'.format(test_accuracy_sklearn*100))"
   ]
  },
  {
   "cell_type": "code",
   "execution_count": 15,
   "metadata": {},
   "outputs": [
    {
     "name": "stdout",
     "output_type": "stream",
     "text": [
      "Number of support vectors with sklearn implementation: 1310\n"
     ]
    }
   ],
   "source": [
    "sklearn_support_indices = model.support_\n",
    "sklearn_weights = model.coef_\n",
    "sklearn_bias = model.intercept_\n",
    "print('Number of support vectors with sklearn implementation: {}'.format(len(sklearn_support_indices)))"
   ]
  },
  {
   "attachments": {
    "image.png": {
     "image/png": "[encoded data removed]"
    }
   },
   "cell_type": "markdown",
   "metadata": {},
   "source": [
    "## Implementation of SVM primal form\n",
    "in this section we implement primal form of soft margin linear SVM using CVXOPT package.We will use the optimized C value obtained with 5-fold cross validation. The primal objective function that we will optimize is shown in Fig.1a.\n",
    "The CVXOPT Quadratic program framework requires optimization functions to be of the form as shown in Fig.1b and all alternate formulations must be manipulated to conform to it![image.png](attachment:image.png)\n",
    "Our variables vector is as shown in Fig.1c, where $m$ is number of features and $n$ is number of training instances. We need to define parameters P,q,G,h. Note, we do not need parameters A,b as there is no equality constraint in our objective function."
   ]
  },
  {
   "cell_type": "code",
   "execution_count": 16,
   "metadata": {},
   "outputs": [],
   "source": [
    "def svm_primal_model(data_train,label_train,regularisation_para_C):\n",
    "    \n",
    "    n = data_train.shape[0]  #no. of training instances\n",
    "    m = data_train.shape[1]  #no. of features\n",
    "    C = regularisation_para_C\n",
    "    \n",
    "    #create numpy arrays for cvxopt parameters\n",
    "    P_up = np.concatenate((np.eye(m),np.zeros(shape=(m,n+1))), axis=1)\n",
    "    q1 = np.zeros(shape=(m+1,1))\n",
    "    q2 = np.full((n,1),C/n)\n",
    "    G_up = np.concatenate((-1*label_train*data_train,-1*label_train,-np.eye(n)),axis=1)\n",
    "    G_down = np.concatenate((np.zeros(shape=(n,m+1)), -np.eye(n)),axis=1)\n",
    "    h1 = -np.ones(shape=(n,1))\n",
    "    h2 = np.zeros(shape=(n,1))\n",
    "    \n",
    "    #create cvxopt matrices\n",
    "    P = matrix(np.concatenate((P_up,np.zeros(shape=(n+1,m+n+1))), axis=0))\n",
    "    q = matrix(np.concatenate((q1,q2), axis = 0))\n",
    "    G = matrix(np.concatenate((G_up, G_down), axis=0))\n",
    "    h = matrix(np.concatenate((h1,h2), axis=0))\n",
    "    \n",
    "    #optimize\n",
    "    sol = solvers.qp(P,q,G,h)\n",
    "    \n",
    "    #get parameters\n",
    "    parameters = np.array(sol['x'])\n",
    "    weights = parameters[0:200]\n",
    "    bias = parameters[200]\n",
    "    \n",
    "    \n",
    "    return weights,bias\n",
    "    "
   ]
  },
  {
   "cell_type": "code",
   "execution_count": 17,
   "metadata": {},
   "outputs": [],
   "source": [
    "def svm_predict_primal(data_test,label_test,svm_model):\n",
    "    \n",
    "    #get parameters from model output\n",
    "    \n",
    "    weights = svm_model[0]\n",
    "    bias = svm_model[1]\n",
    "    \n",
    "    #compute predictions\n",
    "    y_pred = np.dot(data_test,weights) + bias\n",
    "    y_pred_class = [1.0 if x>=0 else -1.0 for x in y_pred]\n",
    "    y_pred_class = np.asarray(y_pred_class).reshape(label_test.shape[0],1)\n",
    "    \n",
    "    #calculate accuracy\n",
    "    score = accuracy_score(y_pred_class, label_test)\n",
    "    \n",
    "    return score\n",
    "    "
   ]
  },
  {
   "cell_type": "markdown",
   "metadata": {},
   "source": [
    "Note: To match sklearn implementation for SVM classifier, we need to refactor the $C$ value by multiplying it with $n$, as the formula for sklearn minimization problem does not account for $1/n$"
   ]
  },
  {
   "cell_type": "code",
   "execution_count": 18,
   "metadata": {},
   "outputs": [
    {
     "name": "stdout",
     "output_type": "stream",
     "text": [
      "     pcost       dcost       gap    pres   dres\n",
      " 0:  8.7201e-01  8.5242e+02  9e+04  3e+00  6e+04\n",
      " 1:  1.9796e+01 -8.8604e+02  9e+02  3e-02  6e+02\n",
      " 2:  1.8726e+01 -4.4388e+01  6e+01  2e-03  3e+01\n",
      " 3:  9.6514e+00 -3.3805e+00  1e+01  2e-04  4e+00\n",
      " 4:  2.1723e+00  3.7231e-01  2e+00  2e-05  4e-01\n",
      " 5:  1.3838e+00  7.5036e-01  6e-01  7e-06  1e-01\n",
      " 6:  1.2346e+00  8.3212e-01  4e-01  4e-06  7e-02\n",
      " 7:  1.1193e+00  8.9452e-01  2e-01  2e-06  4e-02\n",
      " 8:  1.0572e+00  9.2887e-01  1e-01  1e-06  2e-02\n",
      " 9:  1.0118e+00  9.5404e-01  6e-02  3e-07  6e-03\n",
      "10:  9.9168e-01  9.6646e-01  3e-02  1e-07  2e-03\n",
      "11:  9.8118e-01  9.7347e-01  8e-03  1e-08  2e-04\n",
      "12:  9.7762e-01  9.7634e-01  1e-03  5e-10  8e-06\n",
      "13:  9.7700e-01  9.7692e-01  8e-05  3e-11  5e-07\n",
      "14:  9.7696e-01  9.7696e-01  3e-06  8e-13  1e-08\n",
      "15:  9.7696e-01  9.7696e-01  4e-08  1e-14  2e-10\n",
      "Optimal solution found.\n"
     ]
    }
   ],
   "source": [
    "#solve primal form with C=0.001*n\n",
    "primal = svm_primal_model(X_train,y_train,8.5)"
   ]
  },
  {
   "cell_type": "code",
   "execution_count": 19,
   "metadata": {},
   "outputs": [
    {
     "name": "stdout",
     "output_type": "stream",
     "text": [
      "Train accuracy obtained with solving primal form: 97.6%\n",
      "\n",
      "Test accuracy obtained with solving primal form: 97.4%\n"
     ]
    }
   ],
   "source": [
    "#compute predictions using parameters obtained by solving primal form\n",
    "train_score_p = svm_predict_primal(X_train,y_train,primal)\n",
    "test_score_p = svm_predict_primal(X_test,y_test,primal)\n",
    "print('Train accuracy obtained with solving primal form: {:.1f}%'.format(train_score_p*100))\n",
    "print()\n",
    "print('Test accuracy obtained with solving primal form: {:.1f}%'.format(test_score_p*100))\n"
   ]
  },
  {
   "cell_type": "markdown",
   "metadata": {},
   "source": [
    "The accuracy for train and test sets obtained with optimization of primal form using CVXOPT package matches exactly with the sklearn implementation. "
   ]
  },
  {
   "attachments": {
    "image.png": {
     "image/png": "[encoded data removed]"
    }
   },
   "cell_type": "markdown",
   "metadata": {},
   "source": [
    "## Implementation of SVM Dual form\n",
    "In this section, we solve the dual form using CVXOPT package.\n",
    "![image.png](attachment:image.png)\n"
   ]
  },
  {
   "cell_type": "code",
   "execution_count": 20,
   "metadata": {},
   "outputs": [],
   "source": [
    "def svm_dual_model(data_train,label_train,regularisation_para_C):\n",
    "    n = data_train.shape[0]  #no. of training instances\n",
    "    m = data_train.shape[1]  #no. of features\n",
    "    C = regularisation_para_C\n",
    "    \n",
    "    #create numpy arrays for cvxopt parameters\n",
    "    P = np.dot(label_train,label_train.T)*np.matmul(data_train,data_train.T)\n",
    "    q = -np.ones(shape=(n,1))\n",
    "    G1 = -np.eye(n)\n",
    "    G2 = np.eye(n)\n",
    "    h1 = np.zeros(shape=(n,1))\n",
    "    h2 = np.full((n,1),C/n)\n",
    "    A = label_train.T\n",
    "    b = np.zeros(shape=(1,1))\n",
    "    \n",
    "    #create cvxopt matrices\n",
    "    P = matrix(P)\n",
    "    q = matrix(q)\n",
    "    G = matrix(np.concatenate((G1,G2),axis=0))\n",
    "    h = matrix(np.concatenate((h1,h2),axis=0))\n",
    "    A = matrix(A)\n",
    "    b = matrix(b)\n",
    "    \n",
    "    #optimize\n",
    "    sol = solvers.qp(P,q,G,h,A,b)\n",
    "    \n",
    "    #reconstruct weights and bias\n",
    "    parameters = np.array(sol['x'])\n",
    "    weights = np.sum(label_train*parameters*data_train,axis=0)\n",
    "    weights = weights.reshape(1,data_train.shape[1])\n",
    "    S = (parameters>1e-4).flatten()\n",
    "    bias_values = label_train[S] - np.dot(data_train[S],weights.T)\n",
    "    bias = np.mean(bias_values)\n",
    "    \n",
    "    \n",
    "    return weights,bias\n",
    "    \n",
    "    "
   ]
  },
  {
   "cell_type": "code",
   "execution_count": 21,
   "metadata": {},
   "outputs": [
    {
     "name": "stdout",
     "output_type": "stream",
     "text": [
      "     pcost       dcost       gap    pres   dres\n",
      " 0: -8.3329e+02 -2.0012e+01  9e+04  3e+02  1e-12\n",
      " 1: -9.9736e+00 -1.9998e+01  9e+02  3e+00  1e-12\n",
      " 2: -1.6760e+00 -1.8736e+01  6e+01  2e-01  6e-14\n",
      " 3: -9.6508e-01 -9.6527e+00  1e+01  2e-02  8e-15\n",
      " 4: -6.7128e-01 -2.1724e+00  2e+00  2e-03  4e-15\n",
      " 5: -8.1872e-01 -1.3838e+00  6e-01  7e-04  3e-15\n",
      " 6: -8.6592e-01 -1.2346e+00  4e-01  4e-04  3e-15\n",
      " 7: -9.1010e-01 -1.1193e+00  2e-01  2e-04  3e-15\n",
      " 8: -9.3628e-01 -1.0572e+00  1e-01  9e-05  3e-15\n",
      " 9: -9.5634e-01 -1.0118e+00  6e-02  3e-05  3e-15\n",
      "10: -9.6719e-01 -9.9168e-01  3e-02  1e-05  3e-15\n",
      "11: -9.7356e-01 -9.8118e-01  8e-03  1e-06  3e-15\n",
      "12: -9.7635e-01 -9.7762e-01  1e-03  4e-08  3e-15\n",
      "13: -9.7692e-01 -9.7700e-01  8e-05  2e-09  3e-15\n",
      "14: -9.7696e-01 -9.7696e-01  3e-06  8e-11  3e-15\n",
      "15: -9.7696e-01 -9.7696e-01  4e-08  1e-12  4e-15\n",
      "Optimal solution found.\n"
     ]
    }
   ],
   "source": [
    "dual = svm_dual_model(X_train,y_train,8.5)"
   ]
  },
  {
   "cell_type": "code",
   "execution_count": 22,
   "metadata": {},
   "outputs": [],
   "source": [
    "def svm_predict_dual(data_test,label_test,svm_model_d):\n",
    "    \n",
    "    #get parameters from model output\n",
    "    weights = svm_model_d[0]\n",
    "    bias = svm_model_d[1]\n",
    "     \n",
    "    #compute predictions\n",
    "    y_pred = np.dot(data_test,weights.T)+bias\n",
    "    y_pred_class = [1.0 if x>=0 else -1.0 for x in y_pred]\n",
    "    y_pred_class = np.asarray(y_pred_class).reshape(label_test.shape[0],1)\n",
    "    \n",
    "    #calculate accuracy\n",
    "    score = accuracy_score(y_pred_class, label_test)\n",
    "    \n",
    "    return score\n",
    "    \n",
    "    \n"
   ]
  },
  {
   "cell_type": "code",
   "execution_count": 23,
   "metadata": {},
   "outputs": [
    {
     "name": "stdout",
     "output_type": "stream",
     "text": [
      "Train accuracy obtained by solving dual form: 97.7%\n",
      "\n",
      "Test accuracy obtained by solving dual form: 97.4%\n"
     ]
    }
   ],
   "source": [
    "#compute predictions using parameters obtained by solving dual form\n",
    "train_score_d = svm_predict_dual(X_train,y_train,dual)\n",
    "test_score_d = svm_predict_dual(X_test,y_test,dual)\n",
    "print('Train accuracy obtained by solving dual form: {:.1f}%'.format(train_score_d*100))\n",
    "print()\n",
    "print('Test accuracy obtained by solving dual form: {:.1f}%'.format(test_score_d*100))\n",
    "\n"
   ]
  },
  {
   "cell_type": "markdown",
   "metadata": {},
   "source": [
    "The accuracies for train and test sets obtained with optimization of dual form using CVXOPT package matches exactly with the sklearn implementation and primal form. "
   ]
  },
  {
   "cell_type": "code",
   "execution_count": 26,
   "metadata": {},
   "outputs": [
    {
     "data": {
      "image/png": "[encoded data removed]",
      "text/plain": [
       "<Figure size 864x432 with 2 Axes>"
      ]
     },
     "metadata": {
      "needs_background": "light"
     },
     "output_type": "display_data"
    }
   ],
   "source": [
    "fig,ax = plt.subplots(1,2, figsize=(12,6))\n",
    "fig.suptitle('Comparison of weights and bias values', fontsize=18)\n",
    "ax[0].plot(np.arange(1,201), sklearn_weights.flatten(), color='tomato',label='sklearn weights')\n",
    "ax[0].plot(np.arange(1,201), dual[0].flatten()+0.1, color = 'dodgerblue',label='dual weights')\n",
    "ax[0].plot(np.arange(1,201), np.array(primal[0]).flatten()+0.2,color='seagreen', label = 'primal weights')\n",
    "ax[0].set_yticks([])\n",
    "ax[0].set_xlabel('weights',fontsize='15')\n",
    "\n",
    "ax[0].legend()\n",
    "ax[1].bar(['sklearn','primal','dual'],[sklearn_bias[0],np.array(primal[1]),dual[1]], width=0.4, color = ['tomato','dodgerblue','seagreen'])\n",
    "ax[1].set_ylim([0,1.5])\n",
    "ax[1].set_xlabel('bias',fontsize='15');\n"
   ]
  },
  {
   "cell_type": "code",
   "execution_count": null,
   "metadata": {},
   "outputs": [],
   "source": []
  }
 ],
 "metadata": {
  "kernelspec": {
   "display_name": "Python 3",
   "language": "python",
   "name": "python3"
  },
  "language_info": {
   "codemirror_mode": {
    "name": "ipython",
    "version": 3
   },
   "file_extension": ".py",
   "mimetype": "text/x-python",
   "name": "python",
   "nbconvert_exporter": "python",
   "pygments_lexer": "ipython3",
   "version": "3.7.3"
  }
 },
 "nbformat": 4,
 "nbformat_minor": 2
}
